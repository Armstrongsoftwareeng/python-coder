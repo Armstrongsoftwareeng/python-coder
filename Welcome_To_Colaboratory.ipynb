
      "metadata": {
        "id": "4_kCnsPUq

    },
    {
      "cell_type": "code",
      "source": [
        "import pandas as pd\n",
        "import matplotlib.pyplot as plt\n",
        "from sklearn.model_selection import train_test_split\n",
        "from sklearn.linear_model import LinearRegression\n",
        "armstrong = pd.read_excel(\"/content/assighnment 2 ml ds.xlsx\")\n",
        "X = armstrong.drop(['accidents'], axis=1)\n",
        "y = armstrong ['accidents']\n",
        "X_train, X_test, y_train, y_test = train_test_split(X, y, test_size=0.8, random_state=42)\n",
        "regressor = LinearRegression()\n",
        "regressor.fit(X_train, y_train)\n",
        "y_pred = regressor.predict(X_test)\n",
        "print(y_pred)"
      ],
      "metadata": {
        "id": "u2MUo4qxuF1D",
        "outputId": "ee508307-289c-4457-94ef-35614d1e57c6",
        "colab": {
          "base_uri": "https://localhost:8080/"
        }
      },
      "execution_count": 1,
      "outputs": [
        {
          "output_type": "stream",
          "name": "stdout",
          "text": [
            "[-1.75884389  2.43158847 -0.85961946  1.18551995 10.41970285  6.1459325\n",
            " -2.0659622  -0.08952549  3.60136594  5.36004156 -3.23051208  0.8166609\n",
            "  4.6671568  11.74210627 -0.52796939  1.86206327  3.80513603]\n"
          ]
        }
      ]
    }
  ]
